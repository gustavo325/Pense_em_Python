{
 "cells": [
  {
   "attachments": {},
   "cell_type": "markdown",
   "metadata": {},
   "source": [
    "##### Escreva um programa que leia um arquivo, quebre cada linha em palavras, renova os espaços em branco e a pontuação das palavras, e as converta em letras minúsculas."
   ]
  },
  {
   "cell_type": "code",
   "execution_count": null,
   "metadata": {},
   "outputs": [],
   "source": [
    "file = open('Words.txt')\n",
    "\n",
    "palavras = ''\n",
    "\n",
    "for palavra in file:\n",
    "    \n",
    "    # usei o lower para deixar as letras minúsculas e o strip para remover os espaços. \n",
    "    palavras += palavra.strip().lower()\n",
    "print(palavras)\n"
   ]
  },
  {
   "attachments": {},
   "cell_type": "markdown",
   "metadata": {},
   "source": [
    "Escreva uma função chamada choose_from_hist qeu receba um histograma como definido em \"Um dicionário como uma coleção de contadores\", na página 163, e retorne um valor aleatório do histograma, escolhido por probabilidade em proporção à frequência."
   ]
  },
  {
   "cell_type": "code",
   "execution_count": 88,
   "metadata": {},
   "outputs": [
    {
     "name": "stdout",
     "output_type": "stream",
     "text": [
      "Elemento: a - com probabilidade de sorteio de 2/8\n"
     ]
    }
   ],
   "source": [
    "import random as rd\n",
    "\n",
    "def choose_from_hist(letras, histograma):\n",
    "    for v in letras:\n",
    "        if v in histograma: \n",
    "            histograma[v] += 1\n",
    "        else: \n",
    "            histograma.update({v:1})\n",
    "    \n",
    "    sorteio = rd.randint(0,len(letras)-1)\n",
    "    sorteio = letras[sorteio]\n",
    "    \n",
    "    print(f'Elemento: {sorteio} - com probabilidade de sorteio de '\\\n",
    "        f'{histograma[sorteio]}/{len(letras)}')\n",
    "\n",
    "choose_from_hist(['a','a','b','c','o','c','e','c'], dict())\n"
   ]
  }
 ],
 "metadata": {
  "kernelspec": {
   "display_name": "base",
   "language": "python",
   "name": "python3"
  },
  "language_info": {
   "codemirror_mode": {
    "name": "ipython",
    "version": 3
   },
   "file_extension": ".py",
   "mimetype": "text/x-python",
   "name": "python",
   "nbconvert_exporter": "python",
   "pygments_lexer": "ipython3",
   "version": "3.10.9"
  },
  "orig_nbformat": 4
 },
 "nbformat": 4,
 "nbformat_minor": 2
}

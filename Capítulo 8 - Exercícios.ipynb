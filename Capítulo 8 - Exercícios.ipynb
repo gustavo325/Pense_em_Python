{
 "cells": [
  {
   "cell_type": "markdown",
   "metadata": {},
   "source": [
    "Há um método de string chamado count, que é semelhante à função em “Loop e contagem”, na página 123. Leia a documentação deste método e escreva uma invocação que conte o número de letras 'a' em 'banana'."
   ]
  },
  {
   "cell_type": "code",
   "execution_count": 28,
   "metadata": {},
   "outputs": [
    {
     "data": {
      "text/plain": [
       "2"
      ]
     },
     "execution_count": 28,
     "metadata": {},
     "output_type": "execute_result"
    }
   ],
   "source": [
    "palavra = 'banana'\n",
    "\n",
    "palavra.count('a', 0, 4) # Índice inicial é zero e índice final é 3 (4-1), caractere contada 'a'\n"
   ]
  },
  {
   "cell_type": "markdown",
   "metadata": {},
   "source": [
    "Uma fatia de string pode receber um terceiro índice que especifique o “tamanho do passo”; isto é, o número de espaços entre caracteres sucessivos. Um tamanho de passo 2 significa tomar um caractere e outro não; 3 significa tomar um e dois não etc.\n",
    "\n",
    "Um tamanho de passo -1 atravessa a palavra de trás para a frente, então a fatia [::-1] gera uma string invertida.\n",
    "Use isso para escrever uma versão de uma linha de is_palindrome do Exercício 6.3."
   ]
  },
  {
   "cell_type": "code",
   "execution_count": 35,
   "metadata": {},
   "outputs": [
    {
     "data": {
      "text/plain": [
       "True"
      ]
     },
     "execution_count": 35,
     "metadata": {},
     "output_type": "execute_result"
    }
   ],
   "source": [
    "def is_palindrome(string): \n",
    "    return string == string[::-1]\n",
    "\n",
    "is_palindrome('reviver')"
   ]
  },
  {
   "cell_type": "markdown",
   "metadata": {},
   "source": [
    "As seguintes funções pretendem verificar se uma string contém alguma letra minúscula, mas algumas delas estão erradas. Para cada função, descreva o que ela faz (assumindo que o parâmetro seja uma string).\n",
    "\n",
    "\n",
    "    def any_lowercase1(s):\n",
    "\n",
    "        for c in s:\n",
    "\n",
    "            if c.islower():\n",
    "\n",
    "                return True\n",
    "\n",
    "            else:\n",
    "        \n",
    "                return False\n",
    "\n",
    "    def any_lowercase2(s):\n",
    "    \n",
    "        for c in s:\n",
    "        \n",
    "            if 'c'.islower():\n",
    "            \n",
    "                return 'True'\n",
    "            else:\n",
    "            \n",
    "                return 'False'\n",
    "\n",
    "    def any_lowercase3(s):\n",
    "\n",
    "        for c in s:\n",
    "        \n",
    "            flag = c.islower()\n",
    "\n",
    "        return flag\n",
    "\n",
    "    def any_lowercase4(s):\n",
    "\n",
    "        flag = False\n",
    "        \n",
    "        for c in s:\n",
    "\n",
    "            flag = flag or c.islower()\n",
    "\n",
    "        return flag\n",
    "\n",
    "    def any_lowercase5(s):\n",
    "\n",
    "        for c in s:\n",
    "        \n",
    "            if not c.islower():\n",
    "\n",
    "                return False\n",
    "\n",
    "        return True"
   ]
  },
  {
   "cell_type": "markdown",
   "metadata": {},
   "source": [
    "Função any_lowercase1(s) -> Irá verificar somente o primeiro caractere da string, estando incorreta. \n",
    "\n",
    "Função any_lowercase2(s) -> Irá verificar somente a string 'c', estado incorreta também, pois retorna sempre True. \n",
    "\n",
    "Função any_lowercase3(s) -> Irá armazenar a informação somente da última verificação, estando incorreta. \n",
    "\n",
    "Função any_lowercase4(s) -> Através de uma lógica Booleana, vai armazenar o valor de islower() na variável Flag e uma vez que ela seja verdade, ela irá percorrer o restante da string mas não terá seu valor lógico modificado. \n",
    "\n",
    "Função any_lowercase5(s) -> Verifica se toda a string está minúscula, caso tenha alguma letra maiúscula ela retorna True, estando incorreta, pois a questão pede que se verifique se a string contém \"Alguma\" letra minúscula e não que todas sejam minúsculas. "
   ]
  },
  {
   "cell_type": "markdown",
   "metadata": {},
   "source": [
    "Uma cifra de César é uma forma fraca de criptografia que implica “rotacionar” cada letra por um número fixo de lugares. Rotacionar uma letra significa deslocá-lo pelo alfabeto, voltando ao início se for necessário, portanto ‘A’ rotacionado por 3 é ‘D’ e ‘Z’ rotacionado por 1 é ‘A’.\n",
    "\n",
    "Para rotacionar uma palavra, faça cada letra se mover pela mesma quantidade de posições. Por exemplo, “cheer” rotacionado por 7 é “jolly” e “melon” rotacionado por -10 é “cubed”. No filme 2001: Uma odisseia no espaço, o computador da nave chama-se HAL, que é IBM rotacionado por -1.\n",
    "\n",
    "Escreva uma função chamada rotate_word que receba uma string e um número inteiro como parâmetros, e retorne uma nova string que contém as letras da string original rotacionadas pelo número dado.\n",
    "\n",
    "Você pode usar a função integrada ord, que converte um caractere em um código numérico e chr, que converte códigos numéricos em caracteres. As letras do alfabeto são codificadas em ordem alfabética, então, por exemplo:\n",
    "\n",
    "Porque 'c' é a “segunda” letra do alfabeto. Mas tenha cuidado: os códigos numéricos de letras maiúsculas são diferentes.\n",
    "\n",
    "Piadas potencialmente ofensivas na internet às vezes são codificadas em ROT13, que é uma cifra de César com rotação 13. Se não se ofender facilmente, encontre e decifre algumas delas."
   ]
  },
  {
   "cell_type": "code",
   "execution_count": 129,
   "metadata": {},
   "outputs": [
    {
     "data": {
      "text/plain": [
       "'klmn'"
      ]
     },
     "execution_count": 129,
     "metadata": {},
     "output_type": "execute_result"
    }
   ],
   "source": [
    "import string\n",
    "\n",
    "ALFABETO = string.ascii_lowercase\n",
    "\n",
    "def rotacao_palavras(palavra: str, rotacao: int) -> str:\n",
    "    palavra_rotacionada = ''\n",
    "\n",
    "    for letra in palavra: \n",
    "        for caractere in range(len(ALFABETO)): \n",
    "            if letra == ALFABETO[caractere]: \n",
    "                indice = caractere+rotacao\n",
    "                if indice > len(ALFABETO)-1: \n",
    "                    indice -= len(ALFABETO)\n",
    "                    palavra_rotacionada += ALFABETO[indice]\n",
    "                else: \n",
    "                    palavra_rotacionada += ALFABETO[indice]\n",
    "    return palavra_rotacionada\n",
    "\n",
    "rotacao_palavras('abcd', 10)\n",
    "\n"
   ]
  }
 ],
 "metadata": {
  "kernelspec": {
   "display_name": "Python 3.10.0 64-bit",
   "language": "python",
   "name": "python3"
  },
  "language_info": {
   "codemirror_mode": {
    "name": "ipython",
    "version": 3
   },
   "file_extension": ".py",
   "mimetype": "text/x-python",
   "name": "python",
   "nbconvert_exporter": "python",
   "pygments_lexer": "ipython3",
   "version": "3.10.0"
  },
  "orig_nbformat": 4,
  "vscode": {
   "interpreter": {
    "hash": "9f8688d2bc69c748babb560adc9158621fb8aef49546882c3e4c6326402dd0cc"
   }
  }
 },
 "nbformat": 4,
 "nbformat_minor": 2
}

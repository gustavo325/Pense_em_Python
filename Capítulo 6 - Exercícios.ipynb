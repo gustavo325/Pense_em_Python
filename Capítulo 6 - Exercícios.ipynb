{
 "cells": [
  {
   "cell_type": "markdown",
   "metadata": {},
   "source": [
    "Crier uma função que receba dois valores, x e y, e retorne: 1 se x > y, 0 se x == y e -1 se x < y"
   ]
  },
  {
   "cell_type": "code",
   "execution_count": 8,
   "metadata": {},
   "outputs": [
    {
     "name": "stdout",
     "output_type": "stream",
     "text": [
      "1 0 -1\n"
     ]
    }
   ],
   "source": [
    "def comparaValores(x: int, y: int) -> int:\n",
    "    if x > y: \n",
    "        return 1\n",
    "    elif x == y: \n",
    "        return 0\n",
    "    else: \n",
    "        return -1\n",
    "\n",
    "a = comparaValores(15,10)\n",
    "b = comparaValores(1,1)\n",
    "c = comparaValores(10,15)\n",
    "\n",
    "print(a,b,c) "
   ]
  },
  {
   "cell_type": "markdown",
   "metadata": {},
   "source": [
    "Use o desenvolvimento incremental para escrever uma função que devolva o comprimento da hipotenusa de um triângulo retângulo dados os comprimentos dos outros dois lados como argumentos. Registre cada etapa do processo de desenvolvimento no decorrer do processo."
   ]
  },
  {
   "cell_type": "code",
   "execution_count": 11,
   "metadata": {},
   "outputs": [
    {
     "data": {
      "text/plain": [
       "5.0"
      ]
     },
     "execution_count": 11,
     "metadata": {},
     "output_type": "execute_result"
    }
   ],
   "source": [
    "import math\n",
    "\n",
    "def hipotenusa(a,b): \n",
    "    c = a**2+b**2\n",
    "    d = math.sqrt(c)\n",
    "    return d\n",
    "\n",
    "hipotenusa(3,4)"
   ]
  },
  {
   "cell_type": "markdown",
   "metadata": {},
   "source": [
    "Escreva uma função que retorne o fatorial de um número."
   ]
  },
  {
   "cell_type": "code",
   "execution_count": 17,
   "metadata": {},
   "outputs": [
    {
     "data": {
      "text/plain": [
       "120"
      ]
     },
     "execution_count": 17,
     "metadata": {},
     "output_type": "execute_result"
    }
   ],
   "source": [
    "# Forma como é feita no livro...\n",
    "\n",
    "def factorial(n): \n",
    "\n",
    "    # isistance() é uma função que está verificando se o elemento n é do tipo int. \n",
    "    if not isinstance(n, int): \n",
    "        print(\"Factorial is only defined for integers\")\n",
    "        return None\n",
    "\n",
    "    elif n < 0: \n",
    "        print('Factorial is not defined for negative integers')\n",
    "        return None \n",
    "\n",
    "    if n == 0: \n",
    "        return 1\n",
    "        \n",
    "    else: \n",
    "        recurse = factorial(n-1)\n",
    "        result = n * recurse\n",
    "        return result\n",
    "\n",
    "factorial(5)"
   ]
  },
  {
   "cell_type": "code",
   "execution_count": 87,
   "metadata": {},
   "outputs": [
    {
     "name": "stdout",
     "output_type": "stream",
     "text": [
      "3\n",
      "2\n",
      "1\n",
      "0\n"
     ]
    },
    {
     "data": {
      "text/plain": [
       "120"
      ]
     },
     "execution_count": 87,
     "metadata": {},
     "output_type": "execute_result"
    }
   ],
   "source": [
    "# Forma feita por mim...\n",
    "\n",
    "def fatorial(n): \n",
    "    x = n-1\n",
    "    resultado = n\n",
    "    while x >=1:\n",
    "        resultado *= x\n",
    "        x -= 1\n",
    "    return resultado\n",
    "\n",
    "fatorial(5)\n"
   ]
  },
  {
   "cell_type": "markdown",
   "metadata": {},
   "source": [
    "#### Desenhe um diagrama da pilha para o seguinte programa. O que o programa exibe? \n",
    "\n",
    "def b(z):\n",
    "\n",
    "    prod = a(z,z)\n",
    "\n",
    "    print(z,prod)\n",
    "\n",
    "    return prod\n",
    "\n",
    "def a(x,y):\n",
    "\n",
    "    x = x+1\n",
    "\n",
    "    return x*y\n",
    "\n",
    "def c(x,y,z):\n",
    "\n",
    "    total = x + y + z\n",
    "\n",
    "    square = b(total)**2\n",
    "\n",
    "    return square\n",
    "\n",
    "x = 1\n",
    "\n",
    "y = x+1\n",
    "\n",
    "print(c(x, y+3, x+y))"
   ]
  },
  {
   "cell_type": "markdown",
   "metadata": {},
   "source": []
  },
  {
   "cell_type": "markdown",
   "metadata": {},
   "source": [
    "##### Um palíndromo é uma palavra que se soletra da mesma forma nos dois sentidos, como “osso” e “reviver”. Recursivamente, uma palavra é um palíndromo se a primeira e última letras forem iguais e o meio for um palíndromo. As funções seguintes recebem uma string como argumento e retornam as letras iniciais, finais e do meio das palavras:\n",
    "\n",
    "def first(word):\n",
    "\n",
    "    return word[0]\n",
    "\n",
    "def last(word):\n",
    "\n",
    "    return word[-1]\n",
    "\n",
    "def middle(word):\n",
    "\n",
    "    return word[1:-1]\n",
    "\n",
    "##### Escreva uma função chamada is_palindrome que receba uma string como argumento e retorne True se for um palíndromo e False se não for. Lembre-se de que você pode usar a função integrada len para verificar o comprimento de uma string."
   ]
  },
  {
   "cell_type": "code",
   "execution_count": 72,
   "metadata": {},
   "outputs": [
    {
     "data": {
      "text/plain": [
       "True"
      ]
     },
     "execution_count": 72,
     "metadata": {},
     "output_type": "execute_result"
    }
   ],
   "source": [
    "def first(word):\n",
    "    return word[0]\n",
    "\n",
    "def last(word): \n",
    "    return word[-1]\n",
    "\n",
    "def middle(word):\n",
    "    return word[1:-1]\n",
    "\n",
    "def is_palindrome(var : str) -> bool:\n",
    "    if(first(var) == last(var)) and (middle(var) == middle(var)[::-1]):\n",
    "        return True\n",
    "    else: \n",
    "        return False\n",
    "\n",
    "is_palindrome('osso')"
   ]
  },
  {
   "cell_type": "markdown",
   "metadata": {},
   "source": [
    "Um número a é uma potência de b se for divisível por b e a/b for uma potência de b. Escreva uma função chamada is_power que receba os parâmetros a e b e retorne True se a for uma potência de b. Dica: pense no caso-base."
   ]
  },
  {
   "cell_type": "code",
   "execution_count": 63,
   "metadata": {},
   "outputs": [
    {
     "name": "stdout",
     "output_type": "stream",
     "text": [
      "É uma potência!\n"
     ]
    }
   ],
   "source": [
    "def is_power(a,b):\n",
    "    if a == 1: \n",
    "        print(\"É uma potência!\")\n",
    "        return True\n",
    "    if a <1: \n",
    "        print(\"Não é uma potência!\")\n",
    "        return False\n",
    "    a/=b\n",
    "    is_power(a,b)\n",
    "\n",
    "\n",
    "        \n",
    "is_power(2048,2)\n",
    "    "
   ]
  }
 ],
 "metadata": {
  "kernelspec": {
   "display_name": "Python 3.10.0 64-bit",
   "language": "python",
   "name": "python3"
  },
  "language_info": {
   "codemirror_mode": {
    "name": "ipython",
    "version": 3
   },
   "file_extension": ".py",
   "mimetype": "text/x-python",
   "name": "python",
   "nbconvert_exporter": "python",
   "pygments_lexer": "ipython3",
   "version": "3.10.0"
  },
  "orig_nbformat": 4,
  "vscode": {
   "interpreter": {
    "hash": "9f8688d2bc69c748babb560adc9158621fb8aef49546882c3e4c6326402dd0cc"
   }
  }
 },
 "nbformat": 4,
 "nbformat_minor": 2
}

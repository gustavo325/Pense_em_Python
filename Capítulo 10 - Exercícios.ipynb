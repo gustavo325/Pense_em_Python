{
 "cells": [
  {
   "cell_type": "markdown",
   "metadata": {},
   "source": [
    "##### Escreva uma função chamada nested_sum que receba uma lista de listas de números inteiros e adicione os elementos de todas as listas aninhadas. "
   ]
  },
  {
   "cell_type": "code",
   "execution_count": null,
   "metadata": {},
   "outputs": [],
   "source": [
    "def nested_sum(lista): \n",
    "    resultado = 0\n",
    "    for valor in lista: \n",
    "        if type(valor) == list: \n",
    "            resultado += sum(valor)\n",
    "        else: \n",
    "            resultado += valor\n",
    "    return resultado\n",
    "\n",
    "\n",
    "nested_sum([[1,2,3],[6],[5,5,5]])"
   ]
  },
  {
   "cell_type": "markdown",
   "metadata": {},
   "source": [
    "##### Escreva uma função chamada cumsum que receba uma lista de números e retorne a soma cumulativa; isto é, uma nova lista onde o i-ésimo elemento é a soma dos primeiros i+1 elementos da lista original. "
   ]
  },
  {
   "cell_type": "code",
   "execution_count": null,
   "metadata": {},
   "outputs": [],
   "source": [
    "\n",
    "def cumsum(lista): \n",
    "    nova_lista = []\n",
    "    for valor in range(len(lista)): \n",
    "            nova_lista.append(sum(lista[:valor+1]))\n",
    "    return nova_lista\n",
    "\n",
    "x = cumsum([1,2,3])\n",
    "\n",
    "print(x)\n"
   ]
  },
  {
   "cell_type": "markdown",
   "metadata": {},
   "source": [
    "##### Escreva uma função chamada middle que receba uma lista e retorne uma nova lista com todos os elementos originais, exceto os primeiros e os últimos elementos."
   ]
  },
  {
   "cell_type": "code",
   "execution_count": null,
   "metadata": {},
   "outputs": [],
   "source": [
    "def middle(lista): \n",
    "    return lista[1:len(lista)-1] \n",
    "\n",
    "lista = [1,2,3]\n",
    "\n",
    "x = middle(lista)\n",
    "print(x, lista)"
   ]
  },
  {
   "cell_type": "markdown",
   "metadata": {},
   "source": [
    "##### Escreva uma função chamada chop que tome uma lista alterando-a para remover o primeiro e o último elementos, e retorne None. "
   ]
  },
  {
   "cell_type": "code",
   "execution_count": null,
   "metadata": {},
   "outputs": [],
   "source": [
    "lista = [1,2,3]\n",
    "\n",
    "def chop(lista): \n",
    "    lista.pop(0)\n",
    "    lista.pop(len(lista)-1)\n",
    "\n",
    "print(lista)\n",
    "chop(lista)\n",
    "print(lista)"
   ]
  },
  {
   "cell_type": "markdown",
   "metadata": {},
   "source": [
    "##### Escreva uma função chamada is_sorted que tome uma lista como parâmetro e retorne True se a lista estiver classificada em ordem ascendente, e False se não for o caso."
   ]
  },
  {
   "cell_type": "code",
   "execution_count": null,
   "metadata": {},
   "outputs": [],
   "source": [
    "def is_sorted(lista):\n",
    "    for valor in range(len(lista)): \n",
    "        if valor == 0: \n",
    "            continue \n",
    "        else: \n",
    "            if lista[valor-1] <= lista[valor]: \n",
    "                resultado = True\n",
    "            else: \n",
    "                resultado = False \n",
    "    return resultado \n",
    "\n",
    "is_sorted(['a', 'b', 'c'])"
   ]
  },
  {
   "cell_type": "markdown",
   "metadata": {},
   "source": [
    "##### Duas palavras são anagramas se você puder soletrar uma rearranjando as letras da outra. Escreva uma função chamada is_anagram que tome duas strings e retorne True se forem anagramas."
   ]
  },
  {
   "cell_type": "code",
   "execution_count": null,
   "metadata": {},
   "outputs": [],
   "source": [
    "def is_anagram(palavra1, palavra2): \n",
    "    lista = list(palavra2.lower())\n",
    "    if len(palavra1) == len(palavra2): \n",
    "        for letra in palavra1.lower(): \n",
    "            if letra in lista: \n",
    "                lista.remove(letra)\n",
    "        if len(lista) == 0: \n",
    "            return True \n",
    "        else:\n",
    "            return False\n",
    "    else: \n",
    "        return False\n",
    "\n",
    "is_anagram('amor','roma') "
   ]
  },
  {
   "cell_type": "markdown",
   "metadata": {},
   "source": [
    "##### Escreva uma função chamada has_duplicates que tome uma lista e retorne True se houver algum elemento que apareça mais de uma vez. Ela não deve modificar a lista original."
   ]
  },
  {
   "cell_type": "code",
   "execution_count": null,
   "metadata": {},
   "outputs": [],
   "source": [
    "def has_duplicates(lista): \n",
    "    for valor in lista: \n",
    "        quantidade = lista.count(valor)\n",
    "        if quantidade >= 2: \n",
    "            return True\n",
    "    return False\n",
    "\n",
    "has_duplicates([1,2,3,4,5,5])"
   ]
  },
  {
   "cell_type": "markdown",
   "metadata": {},
   "source": [
    "Este exercício pertence ao assim chamado Paradoxo de aniversário, sobre o qual você pode ler em http://en.wikipedia.org/wiki/Birthday_paradox.\n",
    "\n",
    "Se há 23 alunos na sua sala, quais são as chances de dois deles fazerem aniversário no mesmo dia? Você pode estimar esta probabilidade gerando amostras aleatórias de 23 dias de aniversário e verificando as correspondências. Dica: você pode gerar aniversários aleatórios com a função randint no módulo random.\n"
   ]
  },
  {
   "cell_type": "code",
   "execution_count": 163,
   "metadata": {},
   "outputs": [
    {
     "ename": "IndentationError",
     "evalue": "expected an indented block after 'for' statement on line 19 (Temp/ipykernel_4632/1105341062.py, line 20)",
     "output_type": "error",
     "traceback": [
      "\u001b[1;36m  File \u001b[1;32m\"C:\\Users\\gusta\\AppData\\Local\\Temp/ipykernel_4632/1105341062.py\"\u001b[1;36m, line \u001b[1;32m20\u001b[0m\n\u001b[1;33m    if aniversarios.count(d) >= 2:\u001b[0m\n\u001b[1;37m    ^\u001b[0m\n\u001b[1;31mIndentationError\u001b[0m\u001b[1;31m:\u001b[0m expected an indented block after 'for' statement on line 19\n"
     ]
    }
   ],
   "source": [
    "import random \n",
    "\n",
    "# Gerei uma lista aninhada com os 23 alunos e suas datas de aniversário, através de um random \n",
    "\n",
    "alunos = [['aluno ' + str(x), random.randint(1,31), random.randint(1,12)] for x in range(1,23)]\n",
    "\n",
    "# Adicionei cada dia de aniversário dos alunos na lista aniversarios\n",
    "\n",
    "aniversarios = []\n",
    "for indice,dia in enumerate(alunos): \n",
    "    aniversarios.append(alunos[indice][1:])\n",
    "\n",
    "print(aniversarios)\n",
    "contador = 0\n",
    "\n",
    "# Percorri uma lista de 31 dias e contei quantas vezes os dias se repetiam na lista aniversarios\n",
    "\n",
    "for d in list(range(1,32)): \n",
    "    for m in list(range(1,13)):\n",
    "        if aniversarios.count(d) >= 2:\n",
    "            contador +=1\n",
    "print(f'Em um mês de 31 dias a quantidade de vezes que'\\\n",
    "    f' os alunos fizeram aniversário no mesmo dia foi de {contador}'\\\n",
    "        f' {\"dias.\" if contador > 1 else \"dia.\"}')\n",
    "\n"
   ]
  }
 ],
 "metadata": {
  "kernelspec": {
   "display_name": "Python 3.10.0 64-bit",
   "language": "python",
   "name": "python3"
  },
  "language_info": {
   "codemirror_mode": {
    "name": "ipython",
    "version": 3
   },
   "file_extension": ".py",
   "mimetype": "text/x-python",
   "name": "python",
   "nbconvert_exporter": "python",
   "pygments_lexer": "ipython3",
   "version": "3.10.0"
  },
  "orig_nbformat": 4,
  "vscode": {
   "interpreter": {
    "hash": "9f8688d2bc69c748babb560adc9158621fb8aef49546882c3e4c6326402dd0cc"
   }
  }
 },
 "nbformat": 4,
 "nbformat_minor": 2
}

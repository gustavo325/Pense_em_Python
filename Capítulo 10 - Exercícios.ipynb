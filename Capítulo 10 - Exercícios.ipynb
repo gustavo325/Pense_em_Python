{
 "cells": [
  {
   "cell_type": "markdown",
   "metadata": {},
   "source": [
    "##### Escreva uma função chamada nested_sum que receba uma lista de listas de números inteiros e adicione os elementos de todas as listas aninhadas. "
   ]
  },
  {
   "cell_type": "code",
   "execution_count": 1,
   "metadata": {},
   "outputs": [
    {
     "data": {
      "text/plain": [
       "27"
      ]
     },
     "execution_count": 1,
     "metadata": {},
     "output_type": "execute_result"
    }
   ],
   "source": [
    "def nested_sum(lista): \n",
    "    resultado = 0\n",
    "    for valor in lista: \n",
    "        if type(valor) == list: \n",
    "            resultado += sum(valor)\n",
    "        else: \n",
    "            resultado += valor\n",
    "    return resultado\n",
    "\n",
    "\n",
    "nested_sum([[1,2,3],[6],[5,5,5]])"
   ]
  },
  {
   "cell_type": "markdown",
   "metadata": {},
   "source": [
    "##### Escreva uma função chamada cumsum que receba uma lista de números e retorne a soma cumulativa; isto é, uma nova lista onde o i-ésimo elemento é a soma dos primeiros i+1 elementos da lista original. "
   ]
  },
  {
   "cell_type": "code",
   "execution_count": 2,
   "metadata": {},
   "outputs": [
    {
     "name": "stdout",
     "output_type": "stream",
     "text": [
      "[1, 3, 6]\n"
     ]
    }
   ],
   "source": [
    "\n",
    "def cumsum(lista): \n",
    "    nova_lista = []\n",
    "    for valor in range(len(lista)): \n",
    "            nova_lista.append(sum(lista[:valor+1]))\n",
    "    return nova_lista\n",
    "\n",
    "x = cumsum([1,2,3])\n",
    "\n",
    "print(x)\n"
   ]
  },
  {
   "cell_type": "markdown",
   "metadata": {},
   "source": [
    "##### Escreva uma função chamada middle que receba uma lista e retorne uma nova lista com todos os elementos originais, exceto os primeiros e os últimos elementos."
   ]
  },
  {
   "cell_type": "code",
   "execution_count": 3,
   "metadata": {},
   "outputs": [
    {
     "name": "stdout",
     "output_type": "stream",
     "text": [
      "[2] [1, 2, 3]\n"
     ]
    }
   ],
   "source": [
    "def middle(lista): \n",
    "    return lista[1:len(lista)-1] \n",
    "\n",
    "lista = [1,2,3]\n",
    "\n",
    "x = middle(lista)\n",
    "print(x, lista)"
   ]
  },
  {
   "cell_type": "markdown",
   "metadata": {},
   "source": [
    "##### Escreva uma função chamada chop que tome uma lista alterando-a para remover o primeiro e o último elementos, e retorne None. "
   ]
  },
  {
   "cell_type": "code",
   "execution_count": 4,
   "metadata": {},
   "outputs": [
    {
     "name": "stdout",
     "output_type": "stream",
     "text": [
      "[1, 2, 3]\n",
      "[2]\n"
     ]
    }
   ],
   "source": [
    "lista = [1,2,3]\n",
    "\n",
    "def chop(lista): \n",
    "    lista.pop(0)\n",
    "    lista.pop(len(lista)-1)\n",
    "\n",
    "print(lista)\n",
    "chop(lista)\n",
    "print(lista)"
   ]
  },
  {
   "cell_type": "markdown",
   "metadata": {},
   "source": [
    "##### Escreva uma função chamada is_sorted que tome uma lista como parâmetro e retorne True se a lista estiver classificada em ordem ascendente, e False se não for o caso."
   ]
  },
  {
   "cell_type": "code",
   "execution_count": 5,
   "metadata": {},
   "outputs": [
    {
     "data": {
      "text/plain": [
       "True"
      ]
     },
     "execution_count": 5,
     "metadata": {},
     "output_type": "execute_result"
    }
   ],
   "source": [
    "def is_sorted(lista):\n",
    "    for valor in range(len(lista)): \n",
    "        if valor == 0: \n",
    "            continue \n",
    "        else: \n",
    "            if lista[valor-1] <= lista[valor]: \n",
    "                resultado = True\n",
    "            else: \n",
    "                resultado = False \n",
    "    return resultado \n",
    "\n",
    "is_sorted(['a', 'b', 'c'])"
   ]
  },
  {
   "cell_type": "markdown",
   "metadata": {},
   "source": [
    "##### Duas palavras são anagramas se você puder soletrar uma rearranjando as letras da outra. Escreva uma função chamada is_anagram que tome duas strings e retorne True se forem anagramas."
   ]
  },
  {
   "cell_type": "code",
   "execution_count": 6,
   "metadata": {},
   "outputs": [
    {
     "data": {
      "text/plain": [
       "True"
      ]
     },
     "execution_count": 6,
     "metadata": {},
     "output_type": "execute_result"
    }
   ],
   "source": [
    "def is_anagram(palavra1, palavra2): \n",
    "    lista = list(palavra2.lower())\n",
    "    if len(palavra1) == len(palavra2): \n",
    "        for letra in palavra1.lower(): \n",
    "            if letra in lista: \n",
    "                lista.remove(letra)\n",
    "        if len(lista) == 0: \n",
    "            return True \n",
    "        else:\n",
    "            return False\n",
    "    else: \n",
    "        return False\n",
    "\n",
    "is_anagram('amor','roma') "
   ]
  },
  {
   "cell_type": "markdown",
   "metadata": {},
   "source": [
    "##### Escreva uma função chamada has_duplicates que tome uma lista e retorne True se houver algum elemento que apareça mais de uma vez. Ela não deve modificar a lista original."
   ]
  },
  {
   "cell_type": "code",
   "execution_count": 7,
   "metadata": {},
   "outputs": [
    {
     "data": {
      "text/plain": [
       "True"
      ]
     },
     "execution_count": 7,
     "metadata": {},
     "output_type": "execute_result"
    }
   ],
   "source": [
    "def has_duplicates(lista): \n",
    "    for valor in lista: \n",
    "        quantidade = lista.count(valor)\n",
    "        if quantidade >= 2: \n",
    "            return True\n",
    "    return False\n",
    "\n",
    "has_duplicates([1,2,3,4,5,5])"
   ]
  },
  {
   "cell_type": "markdown",
   "metadata": {},
   "source": [
    "Este exercício pertence ao assim chamado Paradoxo de aniversário, sobre o qual você pode ler em http://en.wikipedia.org/wiki/Birthday_paradox.\n",
    "\n",
    "Se há 23 alunos na sua sala, quais são as chances de dois deles fazerem aniversário no mesmo dia? Você pode estimar esta probabilidade gerando amostras aleatórias de 23 dias de aniversário e verificando as correspondências. Dica: você pode gerar aniversários aleatórios com a função randint no módulo random.\n"
   ]
  },
  {
   "cell_type": "code",
   "execution_count": 72,
   "metadata": {},
   "outputs": [
    {
     "name": "stdout",
     "output_type": "stream",
     "text": [
      "Em 50 anos o número de vezes que 2 ou mais alunos fizeram aniversário foi de 26\n"
     ]
    }
   ],
   "source": [
    "import random \n",
    "\n",
    "# Gerei uma lista aninhada com os 23 alunos e suas datas de aniversário, através de um random \n",
    "\n",
    "def gera_aniversarios(qtde_alunos): \n",
    "    aniversarios = [[random.randint(1,31), random.randint(1,12)] for x in range(1,qtde_alunos)]\n",
    "    return aniversarios\n",
    "\n",
    "# Percorri uma lista de 31 dias e contei quantas vezes os dias se repetiam na lista aniversarios\n",
    "\n",
    "def contagem_aniversarios(): \n",
    "    contador = 0\n",
    "    for d in list(range(1,32)): \n",
    "        for m in list(range(1,13)):\n",
    "            if gera_aniversarios(23).count([d,m]) >= 2:\n",
    "                contador +=1\n",
    "    return contador\n",
    "\n",
    "def resultados(qtde_anos): \n",
    "    contador = 0\n",
    "    qtde_anos2 = qtde_anos\n",
    "    while qtde_anos > 0: \n",
    "        qtde_anos -= 1\n",
    "        if contagem_aniversarios() > 0: \n",
    "            contador += 1\n",
    "    print(f'Em {qtde_anos2} {\"ano \" if qtde_anos2 < 2 else \"anos \"}o número de vezes que 2 ou'\\\n",
    "        f' mais alunos fizeram aniversário foi de {contador}')\n",
    "\n",
    "resultados(50)\n"
   ]
  }
 ],
 "metadata": {
  "kernelspec": {
   "display_name": "base",
   "language": "python",
   "name": "python3"
  },
  "language_info": {
   "codemirror_mode": {
    "name": "ipython",
    "version": 3
   },
   "file_extension": ".py",
   "mimetype": "text/x-python",
   "name": "python",
   "nbconvert_exporter": "python",
   "pygments_lexer": "ipython3",
   "version": "3.9.13"
  },
  "orig_nbformat": 4,
  "vscode": {
   "interpreter": {
    "hash": "ad2bdc8ecc057115af97d19610ffacc2b4e99fae6737bb82f5d7fb13d2f2c186"
   }
  }
 },
 "nbformat": 4,
 "nbformat_minor": 2
}

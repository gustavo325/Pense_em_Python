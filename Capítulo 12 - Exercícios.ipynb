{
 "cells": [
  {
   "attachments": {},
   "cell_type": "markdown",
   "metadata": {},
   "source": [
    "##### Escreva uma função chamada most_frequent que receba uma string e exiba as letras em ordem decrescente de frequencia. "
   ]
  },
  {
   "cell_type": "code",
   "execution_count": 53,
   "metadata": {},
   "outputs": [
    {
     "data": {
      "text/plain": [
       "['9', '8', '7', '6', '5', '4', '3', '2', '1']"
      ]
     },
     "execution_count": 53,
     "metadata": {},
     "output_type": "execute_result"
    }
   ],
   "source": [
    "def most_frequent(var) -> str: \n",
    "    return list(reversed(tuple(var)))\n",
    "\n",
    "most_frequent('123456789')"
   ]
  },
  {
   "attachments": {},
   "cell_type": "markdown",
   "metadata": {},
   "source": [
    "##### Escreva uma função chamada sumall que receba qualquer número de argumentos e retorne a soma deles. "
   ]
  },
  {
   "cell_type": "code",
   "execution_count": 29,
   "metadata": {},
   "outputs": [
    {
     "data": {
      "text/plain": [
       "53"
      ]
     },
     "execution_count": 29,
     "metadata": {},
     "output_type": "execute_result"
    }
   ],
   "source": [
    "def sumall(*args): \n",
    "    return sum(args)\n",
    "sumall(8,5,10,15,15)"
   ]
  },
  {
   "attachments": {},
   "cell_type": "markdown",
   "metadata": {},
   "source": [
    "##### Escreva um programa que leia uma lista de palavras de um arquivo (words.txt) e imprima todos os conjuntos de palavras que são anagramas."
   ]
  },
  {
   "cell_type": "code",
   "execution_count": 100,
   "metadata": {},
   "outputs": [
    {
     "name": "stdout",
     "output_type": "stream",
     "text": [
      "['a', 'a']  |  ['a', 'a']\n",
      "['a', 'b', 'a']  |  ['a', 'b', 'a']\n",
      "['a', 'g', 'a']  |  ['a', 'g', 'a']\n",
      "['a', 'h', 'a']  |  ['a', 'h', 'a']\n",
      "['a', 'l', 'a']  |  ['a', 'l', 'a']\n",
      "['a', 'l', 'u', 'l', 'a']  |  ['a', 'l', 'u', 'l', 'a']\n",
      "['a', 'm', 'a']  |  ['a', 'm', 'a']\n",
      "['a', 'n', 'a']  |  ['a', 'n', 'a']\n",
      "['a', 'n', 'n', 'a']  |  ['a', 'n', 'n', 'a']\n",
      "['a', 'v', 'a']  |  ['a', 'v', 'a']\n",
      "['a', 'w', 'a']  |  ['a', 'w', 'a']\n",
      "['b', 'i', 'b']  |  ['b', 'i', 'b']\n",
      "['b', 'o', 'b']  |  ['b', 'o', 'b']\n",
      "['b', 'o', 'o', 'b']  |  ['b', 'o', 'o', 'b']\n",
      "['b', 'u', 'b']  |  ['b', 'u', 'b']\n",
      "['c', 'i', 'v', 'i', 'c']  |  ['c', 'i', 'v', 'i', 'c']\n",
      "['d', 'a', 'd']  |  ['d', 'a', 'd']\n",
      "['d', 'e', 'e', 'd']  |  ['d', 'e', 'e', 'd']\n",
      "['d', 'e', 'i', 'f', 'i', 'e', 'd']  |  ['d', 'e', 'i', 'f', 'i', 'e', 'd']\n",
      "['d', 'e', 'k', 'e', 'd']  |  ['d', 'e', 'k', 'e', 'd']\n",
      "['d', 'e', 'l', 'e', 'd']  |  ['d', 'e', 'l', 'e', 'd']\n",
      "['d', 'e', 'n', 'n', 'e', 'd']  |  ['d', 'e', 'n', 'n', 'e', 'd']\n",
      "['d', 'e', 'w', 'e', 'd']  |  ['d', 'e', 'w', 'e', 'd']\n",
      "['d', 'i', 'd']  |  ['d', 'i', 'd']\n",
      "['d', 'u', 'd']  |  ['d', 'u', 'd']\n",
      "['e', 'k', 'e']  |  ['e', 'k', 'e']\n",
      "['e', 'm', 'e']  |  ['e', 'm', 'e']\n",
      "['e', 'r', 'e']  |  ['e', 'r', 'e']\n",
      "['e', 'v', 'e']  |  ['e', 'v', 'e']\n",
      "['e', 'w', 'e']  |  ['e', 'w', 'e']\n",
      "['e', 'y', 'e']  |  ['e', 'y', 'e']\n",
      "['g', 'a', 'g']  |  ['g', 'a', 'g']\n",
      "['g', 'i', 'g']  |  ['g', 'i', 'g']\n",
      "['h', 'a', 'h']  |  ['h', 'a', 'h']\n",
      "['h', 'a', 'l', 'a', 'l', 'a', 'h']  |  ['h', 'a', 'l', 'a', 'l', 'a', 'h']\n",
      "['h', 'a', 'l', 'l', 'a', 'h']  |  ['h', 'a', 'l', 'l', 'a', 'h']\n",
      "['h', 'u', 'h']  |  ['h', 'u', 'h']\n",
      "['k', 'a', 'i', 'a', 'k']  |  ['k', 'a', 'i', 'a', 'k']\n",
      "['k', 'a', 'y', 'a', 'k']  |  ['k', 'a', 'y', 'a', 'k']\n",
      "['k', 'e', 'e', 'k']  |  ['k', 'e', 'e', 'k']\n",
      "['k', 'o', 'o', 'k']  |  ['k', 'o', 'o', 'k']\n",
      "['l', 'e', 'v', 'e', 'l']  |  ['l', 'e', 'v', 'e', 'l']\n",
      "['m', 'a', 'd', 'a', 'm']  |  ['m', 'a', 'd', 'a', 'm']\n",
      "['m', 'a', 'r', 'r', 'a', 'm']  |  ['m', 'a', 'r', 'r', 'a', 'm']\n",
      "['m', 'e', 'm']  |  ['m', 'e', 'm']\n",
      "['m', 'i', 'm']  |  ['m', 'i', 'm']\n",
      "['m', 'i', 'n', 'i', 'm']  |  ['m', 'i', 'n', 'i', 'm']\n",
      "['m', 'o', 'm']  |  ['m', 'o', 'm']\n",
      "['m', 'u', 'm']  |  ['m', 'u', 'm']\n",
      "['n', 'o', 'o', 'n']  |  ['n', 'o', 'o', 'n']\n",
      "['n', 'u', 'n']  |  ['n', 'u', 'n']\n",
      "['o', 'h', 'o']  |  ['o', 'h', 'o']\n",
      "['o', 't', 't', 'o']  |  ['o', 't', 't', 'o']\n",
      "['p', 'a', 'p']  |  ['p', 'a', 'p']\n",
      "['p', 'e', 'e', 'p']  |  ['p', 'e', 'e', 'p']\n",
      "['p', 'e', 'p']  |  ['p', 'e', 'p']\n",
      "['p', 'i', 'p']  |  ['p', 'i', 'p']\n",
      "['p', 'o', 'o', 'p']  |  ['p', 'o', 'o', 'p']\n",
      "['p', 'o', 'p']  |  ['p', 'o', 'p']\n",
      "['p', 'u', 'p']  |  ['p', 'u', 'p']\n",
      "['r', 'a', 'd', 'a', 'r']  |  ['r', 'a', 'd', 'a', 'r']\n",
      "['r', 'e', 'd', 'd', 'e', 'r']  |  ['r', 'e', 'd', 'd', 'e', 'r']\n",
      "['r', 'e', 'f', 'e', 'r']  |  ['r', 'e', 'f', 'e', 'r']\n",
      "['r', 'e', 'i', 'f', 'i', 'e', 'r']  |  ['r', 'e', 'i', 'f', 'i', 'e', 'r']\n",
      "['r', 'e', 'p', 'a', 'p', 'e', 'r']  |  ['r', 'e', 'p', 'a', 'p', 'e', 'r']\n",
      "['r', 'e', 'v', 'i', 'v', 'e', 'r']  |  ['r', 'e', 'v', 'i', 'v', 'e', 'r']\n",
      "['r', 'o', 't', 'a', 't', 'o', 'r']  |  ['r', 'o', 't', 'a', 't', 'o', 'r']\n",
      "['r', 'o', 't', 'o', 'r']  |  ['r', 'o', 't', 'o', 'r']\n",
      "['s', 'a', 'g', 'a', 's']  |  ['s', 'a', 'g', 'a', 's']\n",
      "['s', 'e', 'e', 's']  |  ['s', 'e', 'e', 's']\n",
      "['s', 'e', 'l', 'l', 'e', 's']  |  ['s', 'e', 'l', 'l', 'e', 's']\n",
      "['s', 'e', 'm', 'e', 'm', 'e', 's']  |  ['s', 'e', 'm', 'e', 'm', 'e', 's']\n",
      "['s', 'e', 'm', 'e', 's']  |  ['s', 'e', 'm', 'e', 's']\n",
      "['s', 'e', 'r', 'e', 's']  |  ['s', 'e', 'r', 'e', 's']\n",
      "['s', 'e', 'x', 'e', 's']  |  ['s', 'e', 'x', 'e', 's']\n",
      "['s', 'h', 'a', 'h', 's']  |  ['s', 'h', 'a', 'h', 's']\n",
      "['s', 'i', 's']  |  ['s', 'i', 's']\n",
      "['s', 'o', 'l', 'o', 's']  |  ['s', 'o', 'l', 'o', 's']\n",
      "['s', 'o', 's']  |  ['s', 'o', 's']\n",
      "['s', 't', 'e', 't', 's']  |  ['s', 't', 'e', 't', 's']\n",
      "['t', 'a', 't']  |  ['t', 'a', 't']\n",
      "['t', 'e', 'n', 'e', 't']  |  ['t', 'e', 'n', 'e', 't']\n",
      "['t', 'e', 'r', 'r', 'e', 't']  |  ['t', 'e', 'r', 'r', 'e', 't']\n",
      "['t', 'i', 't']  |  ['t', 'i', 't']\n",
      "['t', 'o', 'o', 't']  |  ['t', 'o', 'o', 't']\n",
      "['t', 'o', 't']  |  ['t', 'o', 't']\n",
      "['t', 'u', 't']  |  ['t', 'u', 't']\n",
      "['v', 'a', 'v']  |  ['v', 'a', 'v']\n",
      "['w', 'a', 'w']  |  ['w', 'a', 'w']\n",
      "['w', 'o', 'w']  |  ['w', 'o', 'w']\n",
      "['y', 'a', 'y']  |  ['y', 'a', 'y']\n"
     ]
    }
   ],
   "source": [
    "arquivo = open('words.txt')\n",
    "\n",
    "def verificadora(valor): \n",
    "    if valor == list(reversed(valor)): \n",
    "        print(f'{valor} {\" | \"} {list(reversed(valor))}')\n",
    "\n",
    "for i in arquivo: \n",
    "    valor = list(i)\n",
    "    \n",
    "    for p in valor: \n",
    "        if p == '\\n':  \n",
    "            valor.remove('\\n')\n",
    "            verificadora(valor)\n",
    "        else: \n",
    "            verificadora(valor)\n",
    "            "
   ]
  },
  {
   "attachments": {},
   "cell_type": "markdown",
   "metadata": {},
   "source": [
    "##### "
   ]
  }
 ],
 "metadata": {
  "kernelspec": {
   "display_name": "base",
   "language": "python",
   "name": "python3"
  },
  "language_info": {
   "codemirror_mode": {
    "name": "ipython",
    "version": 3
   },
   "file_extension": ".py",
   "mimetype": "text/x-python",
   "name": "python",
   "nbconvert_exporter": "python",
   "pygments_lexer": "ipython3",
   "version": "3.10.9"
  },
  "orig_nbformat": 4,
  "vscode": {
   "interpreter": {
    "hash": "ad2bdc8ecc057115af97d19610ffacc2b4e99fae6737bb82f5d7fb13d2f2c186"
   }
  }
 },
 "nbformat": 4,
 "nbformat_minor": 2
}

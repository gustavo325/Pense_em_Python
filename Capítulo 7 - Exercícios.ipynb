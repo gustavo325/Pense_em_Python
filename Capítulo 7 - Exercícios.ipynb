{
 "cells": [
  {
   "cell_type": "markdown",
   "metadata": {},
   "source": [
    "Copie o loop de “Raízes quadradas”, na página 111, e encapsule-o em uma função chamada mysqrt que receba a como parâmetro, escolha um valor razoável de x e devolva uma estimativa da raiz quadrada de a.\n",
    "\n",
    "Para testar, escreva uma função denominada test_square_root, que exibe uma tabela como esta:\n",
    "\n",
    "a   mysqrt(a)     math.sqrt(a)  diff\n",
    "-   ---------     ------------  ----\n",
    "1.0 1.0           1.0           0.0\n",
    "\n",
    "2.0 1.41421356237 1.41421356237 2.22044604925e-16\n",
    "\n",
    "3.0 1.73205080757 1.73205080757 0.0\n",
    "\n",
    "4.0 2.0           2.0           0.0\n",
    "\n",
    "5.0 2.2360679775  2.2360679775  0.0\n",
    "\n",
    "6.0 2.44948974278 2.44948974278 0.0\n",
    "\n",
    "7.0 2.64575131106 2.64575131106 0.0\n",
    "\n",
    "8.0 2.82842712475 2.82842712475 4.4408920985e-16\n",
    "\n",
    "9.0 3.0           3.0           0.0\n",
    "\n",
    "\n",
    "A primeira coluna é um número, a; a segunda coluna é a raiz quadrada de a calculada com mysqrt; a terceira coluna é a raiz quadrada calculada por math.sqrt; a quarta coluna é o valor absoluto da diferença entre as duas estimativas."
   ]
  },
  {
   "cell_type": "code",
   "execution_count": 79,
   "metadata": {},
   "outputs": [
    {
     "name": "stdout",
     "output_type": "stream",
     "text": [
      "a    raiz(a)    math.sqrt(a)    diff \n",
      "--------------------------------------------------\n",
      "1    1.25       1.00            0.25\n",
      "2    1.50       1.41            0.08578643762690485\n",
      "3    1.75       1.73            0.017949192431122807\n",
      "4    2.00       2.00            0.0\n",
      "5    2.25       2.24            0.013932022500210195\n",
      "6    2.50       2.45            0.05051025721682212\n",
      "7    2.75       2.65            0.10424868893540928\n",
      "8    3.00       2.83            0.1715728752538097\n",
      "9    3.25       3.00            0.25\n"
     ]
    }
   ],
   "source": [
    "import math \n",
    "\n",
    "def raiz(a):\n",
    "    x = a/2 \n",
    "    return (x+ a/x)/2\n",
    "\n",
    "def raiz_quadrada(): \n",
    "    contador = 1\n",
    "    print(f\"a{' ' *4}raiz(a){' '*4}math.sqrt(a){' ' *4}diff \\n{'-'*50}\")\n",
    "    while contador < 10: \n",
    "        print(f'{contador}{\" \" * 4}{raiz(contador):.2f}{\" \" *7}{math.sqrt(contador):.2f}{\" \" *12}{raiz(contador) - math.sqrt(contador)}')\n",
    "        contador +=1\n",
    "\n",
    "raiz_quadrada()"
   ]
  },
  {
   "cell_type": "markdown",
   "metadata": {},
   "source": []
  },
  {
   "cell_type": "code",
   "execution_count": 98,
   "metadata": {},
   "outputs": [],
   "source": [
    "def eval_loop(): \n",
    "    operacao = input('Digite uma operação matemática:\\n').strip()\n",
    "    while operacao != 'done': \n",
    "        resultado = eval(operacao)\n",
    "        operacao = input('Digite outra operação matemática:\\n').strip()\n",
    "        if operacao == 'done': \n",
    "            return resultado\n",
    "    \n",
    "eval_loop()"
   ]
  }
 ],
 "metadata": {
  "kernelspec": {
   "display_name": "Python 3.10.0 64-bit",
   "language": "python",
   "name": "python3"
  },
  "language_info": {
   "codemirror_mode": {
    "name": "ipython",
    "version": 3
   },
   "file_extension": ".py",
   "mimetype": "text/x-python",
   "name": "python",
   "nbconvert_exporter": "python",
   "pygments_lexer": "ipython3",
   "version": "3.10.0"
  },
  "orig_nbformat": 4,
  "vscode": {
   "interpreter": {
    "hash": "9f8688d2bc69c748babb560adc9158621fb8aef49546882c3e4c6326402dd0cc"
   }
  }
 },
 "nbformat": 4,
 "nbformat_minor": 2
}
